{
 "cells": [
  {
   "cell_type": "markdown",
   "metadata": {},
   "source": [
    "# 1. Report result on physicians' assessment of explanation quality\n",
    "\n",
    "XAI quality is the physicians' assessment of how closely the AI explanation matches with clinical judgment. I.e.: plausibility assessment"
   ]
  },
  {
   "cell_type": "code",
   "execution_count": 2,
   "metadata": {},
   "outputs": [],
   "source": [
    "from base_code import *\n",
    "\n",
    "valid_data = pd.read_csv('../neurosurgeon35_data/neurosurgeon35.csv', index_col='Respondent ID')\n",
    "xai25 = pd.read_csv('../computational_data/xai25.csv')\n",
    "mriwise = pd.read_csv('../computational_data/mri_wise_acc.csv')\n",
    "dr_wise_acc = pd.read_csv('../computational_data/dr_wise_acc.csv')\n",
    "result_long = pd.read_csv('../computational_data/result_long.csv')"
   ]
  },
  {
   "cell_type": "code",
   "execution_count": 4,
   "metadata": {},
   "outputs": [
    {
     "name": "stdout",
     "output_type": "stream",
     "text": [
      "The average explanation quality rating is:  6.12$\\pm$2.92\n"
     ]
    }
   ],
   "source": [
    "xai_qual = valid_data.filter(regex='How closely does the highlighted area of the color map match with your clinical judgment?').fillna(np.nan).astype(float)\n",
    "xai_qual_values = xai_qual.stack().dropna()\n",
    "print('The average explanation quality rating is: ', '{:.2f}$\\pm${:.2f}'.format(np.mean(xai_qual_values), np.std(xai_qual_values)))"
   ]
  },
  {
   "cell_type": "code",
   "execution_count": 5,
   "metadata": {},
   "outputs": [
    {
     "data": {
      "text/plain": [
       "(2.390722810272148, 3.0384572108591925)"
      ]
     },
     "execution_count": 5,
     "metadata": {},
     "output_type": "execute_result"
    }
   ],
   "source": [
    "# report variation of explanation quality\n",
    "var = np.std(xai_qual).to_list()\n",
    "min(var), max(var)"
   ]
  },
  {
   "cell_type": "markdown",
   "metadata": {},
   "source": [
    "# 2. Report result on physicians' choice on \"Need explanation\"\n",
    "\n",
    "Need explanation is: \n",
    "\n",
    "For each MRI case, the physician choose \"yes/no\" for the question: \n",
    "    \n",
    "\"Would you like to check the explanation from AI for this MRI?\""
   ]
  },
  {
   "cell_type": "code",
   "execution_count": 7,
   "metadata": {},
   "outputs": [
    {
     "data": {
      "text/plain": [
       "{11: 0.0,\n",
       " 18: 0.0,\n",
       " 30: 0.0,\n",
       " 32: 0.0,\n",
       " 34: 0.0,\n",
       " 5: 0.08695652173913043,\n",
       " 6: 0.12,\n",
       " 20: 0.12,\n",
       " 17: 0.125,\n",
       " 13: 0.13043478260869565,\n",
       " 3: 0.16,\n",
       " 15: 0.16,\n",
       " 24: 0.16,\n",
       " 16: 0.16666666666666666,\n",
       " 25: 0.17647058823529413,\n",
       " 10: 0.2,\n",
       " 26: 0.2,\n",
       " 31: 0.2,\n",
       " 14: 0.24,\n",
       " 27: 0.24,\n",
       " 9: 0.25,\n",
       " 33: 0.25,\n",
       " 8: 0.28,\n",
       " 1: 0.3333333333333333,\n",
       " 19: 0.48,\n",
       " 35: 0.5,\n",
       " 29: 0.6666666666666666,\n",
       " 28: 0.68,\n",
       " 22: 0.88,\n",
       " 7: 0.96,\n",
       " 12: 0.96,\n",
       " 23: 0.96,\n",
       " 2: 1.0,\n",
       " 4: 1.0,\n",
       " 21: 1.0}"
      ]
     },
     "execution_count": 7,
     "metadata": {},
     "output_type": "execute_result"
    }
   ],
   "source": [
    "will_check_xai =  valid_data.filter(regex='button in the AI system').replace({\"Yes\":1, \"No\":0})\n",
    "gt_long = xai25[['dataID','gt','pred']]\n",
    "\n",
    "will_check_xai_t = will_check_xai.rename(columns = {c: gt_long['dataID'].iloc[i] for i, c in enumerate(will_check_xai.columns)}).transpose().reset_index(level=0).rename(columns={'index':'dataID'})\n",
    "need_xai_rate_drwise = dict()\n",
    "for idx in will_check_xai.index:\n",
    "    row_lst = will_check_xai.loc[idx].dropna().to_list()\n",
    "    need_xai_rate_drwise[idx] = sum(row_lst) /len(row_lst)\n",
    "sorted_need_xai_drwise = dict(sorted(need_xai_rate_drwise.items(), key=lambda item: item[1])) \n",
    "sorted_need_xai_drwise"
   ]
  },
  {
   "cell_type": "code",
   "execution_count": 8,
   "metadata": {},
   "outputs": [
    {
     "data": {
      "text/plain": [
       "(array([6., 9., 8., 1., 1., 1., 2., 0., 1., 6.]),\n",
       " array([0. , 0.1, 0.2, 0.3, 0.4, 0.5, 0.6, 0.7, 0.8, 0.9, 1. ]),\n",
       " <BarContainer object of 10 artists>)"
      ]
     },
     "execution_count": 8,
     "metadata": {},
     "output_type": "execute_result"
    },
    {
     "data": {
      "image/png": "[encoded data removed]",
      "text/plain": [
       "<Figure size 432x288 with 1 Axes>"
      ]
     },
     "metadata": {
      "needs_background": "light"
     },
     "output_type": "display_data"
    }
   ],
   "source": [
    "# visualize the distribution of the rate of \"need explanation\"\n",
    "plt.hist(need_xai_rate_drwise.values(), bins = 10)\n",
    "# plt.savefig(\"../reporting/need_xai_hist.pdf\", transparent=True, bbox_inches = 'tight')\n"
   ]
  },
  {
   "cell_type": "markdown",
   "metadata": {},
   "source": [
    "## 2.1 correlation between need explanation and decision agreement\n"
   ]
  },
  {
   "cell_type": "code",
   "execution_count": 3,
   "metadata": {},
   "outputs": [],
   "source": [
    "result_error = pd.read_csv('../computational_data/result_error.csv')\n",
    "subset = result_error[['Agreement_bl', 'will_check_xai']].dropna()\n",
    "expected, observed, stats = pg.chi2_independence(subset, x='Agreement_bl', y='will_check_xai')"
   ]
  },
  {
   "cell_type": "code",
   "execution_count": 4,
   "metadata": {},
   "outputs": [
    {
     "data": {
      "text/html": [
       "<div>\n",
       "<style scoped>\n",
       "    .dataframe tbody tr th:only-of-type {\n",
       "        vertical-align: middle;\n",
       "    }\n",
       "\n",
       "    .dataframe tbody tr th {\n",
       "        vertical-align: top;\n",
       "    }\n",
       "\n",
       "    .dataframe thead th {\n",
       "        text-align: right;\n",
       "    }\n",
       "</style>\n",
       "<table border=\"1\" class=\"dataframe\">\n",
       "  <thead>\n",
       "    <tr style=\"text-align: right;\">\n",
       "      <th>will_check_xai</th>\n",
       "      <th>0.0</th>\n",
       "      <th>1.0</th>\n",
       "    </tr>\n",
       "    <tr>\n",
       "      <th>Agreement_bl</th>\n",
       "      <th></th>\n",
       "      <th></th>\n",
       "    </tr>\n",
       "  </thead>\n",
       "  <tbody>\n",
       "    <tr>\n",
       "      <th>Agree</th>\n",
       "      <td>395.44504</td>\n",
       "      <td>211.55496</td>\n",
       "    </tr>\n",
       "    <tr>\n",
       "      <th>Disagree</th>\n",
       "      <td>90.55496</td>\n",
       "      <td>48.44504</td>\n",
       "    </tr>\n",
       "  </tbody>\n",
       "</table>\n",
       "</div>"
      ],
      "text/plain": [
       "will_check_xai        0.0        1.0\n",
       "Agreement_bl                        \n",
       "Agree           395.44504  211.55496\n",
       "Disagree         90.55496   48.44504"
      ]
     },
     "execution_count": 4,
     "metadata": {},
     "output_type": "execute_result"
    }
   ],
   "source": [
    "expected"
   ]
  },
  {
   "cell_type": "code",
   "execution_count": 5,
   "metadata": {},
   "outputs": [
    {
     "data": {
      "text/html": [
       "<div>\n",
       "<style scoped>\n",
       "    .dataframe tbody tr th:only-of-type {\n",
       "        vertical-align: middle;\n",
       "    }\n",
       "\n",
       "    .dataframe tbody tr th {\n",
       "        vertical-align: top;\n",
       "    }\n",
       "\n",
       "    .dataframe thead th {\n",
       "        text-align: right;\n",
       "    }\n",
       "</style>\n",
       "<table border=\"1\" class=\"dataframe\">\n",
       "  <thead>\n",
       "    <tr style=\"text-align: right;\">\n",
       "      <th>will_check_xai</th>\n",
       "      <th>0.0</th>\n",
       "      <th>1.0</th>\n",
       "    </tr>\n",
       "    <tr>\n",
       "      <th>Agreement_bl</th>\n",
       "      <th></th>\n",
       "      <th></th>\n",
       "    </tr>\n",
       "  </thead>\n",
       "  <tbody>\n",
       "    <tr>\n",
       "      <th>Agree</th>\n",
       "      <td>436.5</td>\n",
       "      <td>170.5</td>\n",
       "    </tr>\n",
       "    <tr>\n",
       "      <th>Disagree</th>\n",
       "      <td>49.5</td>\n",
       "      <td>89.5</td>\n",
       "    </tr>\n",
       "  </tbody>\n",
       "</table>\n",
       "</div>"
      ],
      "text/plain": [
       "will_check_xai    0.0    1.0\n",
       "Agreement_bl                \n",
       "Agree           436.5  170.5\n",
       "Disagree         49.5   89.5"
      ]
     },
     "execution_count": 5,
     "metadata": {},
     "output_type": "execute_result"
    }
   ],
   "source": [
    "observed"
   ]
  },
  {
   "cell_type": "code",
   "execution_count": 6,
   "metadata": {},
   "outputs": [
    {
     "data": {
      "text/html": [
       "<div>\n",
       "<style scoped>\n",
       "    .dataframe tbody tr th:only-of-type {\n",
       "        vertical-align: middle;\n",
       "    }\n",
       "\n",
       "    .dataframe tbody tr th {\n",
       "        vertical-align: top;\n",
       "    }\n",
       "\n",
       "    .dataframe thead th {\n",
       "        text-align: right;\n",
       "    }\n",
       "</style>\n",
       "<table border=\"1\" class=\"dataframe\">\n",
       "  <thead>\n",
       "    <tr style=\"text-align: right;\">\n",
       "      <th></th>\n",
       "      <th>test</th>\n",
       "      <th>lambda</th>\n",
       "      <th>chi2</th>\n",
       "      <th>dof</th>\n",
       "      <th>pval</th>\n",
       "      <th>cramer</th>\n",
       "      <th>power</th>\n",
       "    </tr>\n",
       "  </thead>\n",
       "  <tbody>\n",
       "    <tr>\n",
       "      <th>0</th>\n",
       "      <td>pearson</td>\n",
       "      <td>1.000000</td>\n",
       "      <td>65.634871</td>\n",
       "      <td>1.0</td>\n",
       "      <td>5.426998e-16</td>\n",
       "      <td>0.296618</td>\n",
       "      <td>1.0</td>\n",
       "    </tr>\n",
       "    <tr>\n",
       "      <th>1</th>\n",
       "      <td>cressie-read</td>\n",
       "      <td>0.666667</td>\n",
       "      <td>64.288755</td>\n",
       "      <td>1.0</td>\n",
       "      <td>1.074573e-15</td>\n",
       "      <td>0.293561</td>\n",
       "      <td>1.0</td>\n",
       "    </tr>\n",
       "    <tr>\n",
       "      <th>2</th>\n",
       "      <td>log-likelihood</td>\n",
       "      <td>0.000000</td>\n",
       "      <td>62.738655</td>\n",
       "      <td>1.0</td>\n",
       "      <td>2.360373e-15</td>\n",
       "      <td>0.290000</td>\n",
       "      <td>1.0</td>\n",
       "    </tr>\n",
       "    <tr>\n",
       "      <th>3</th>\n",
       "      <td>freeman-tukey</td>\n",
       "      <td>-0.500000</td>\n",
       "      <td>62.517190</td>\n",
       "      <td>1.0</td>\n",
       "      <td>2.641291e-15</td>\n",
       "      <td>0.289488</td>\n",
       "      <td>1.0</td>\n",
       "    </tr>\n",
       "    <tr>\n",
       "      <th>4</th>\n",
       "      <td>mod-log-likelihood</td>\n",
       "      <td>-1.000000</td>\n",
       "      <td>63.079937</td>\n",
       "      <td>1.0</td>\n",
       "      <td>1.984855e-15</td>\n",
       "      <td>0.290788</td>\n",
       "      <td>1.0</td>\n",
       "    </tr>\n",
       "    <tr>\n",
       "      <th>5</th>\n",
       "      <td>neyman</td>\n",
       "      <td>-2.000000</td>\n",
       "      <td>66.630320</td>\n",
       "      <td>1.0</td>\n",
       "      <td>3.275098e-16</td>\n",
       "      <td>0.298859</td>\n",
       "      <td>1.0</td>\n",
       "    </tr>\n",
       "  </tbody>\n",
       "</table>\n",
       "</div>"
      ],
      "text/plain": [
       "                 test    lambda       chi2  dof          pval    cramer  power\n",
       "0             pearson  1.000000  65.634871  1.0  5.426998e-16  0.296618    1.0\n",
       "1        cressie-read  0.666667  64.288755  1.0  1.074573e-15  0.293561    1.0\n",
       "2      log-likelihood  0.000000  62.738655  1.0  2.360373e-15  0.290000    1.0\n",
       "3       freeman-tukey -0.500000  62.517190  1.0  2.641291e-15  0.289488    1.0\n",
       "4  mod-log-likelihood -1.000000  63.079937  1.0  1.984855e-15  0.290788    1.0\n",
       "5              neyman -2.000000  66.630320  1.0  3.275098e-16  0.298859    1.0"
      ]
     },
     "execution_count": 6,
     "metadata": {},
     "output_type": "execute_result"
    }
   ],
   "source": [
    "stats"
   ]
  },
  {
   "cell_type": "code",
   "execution_count": 7,
   "metadata": {},
   "outputs": [
    {
     "data": {
      "text/html": [
       "<div>\n",
       "<style scoped>\n",
       "    .dataframe tbody tr th:only-of-type {\n",
       "        vertical-align: middle;\n",
       "    }\n",
       "\n",
       "    .dataframe tbody tr th {\n",
       "        vertical-align: top;\n",
       "    }\n",
       "\n",
       "    .dataframe thead th {\n",
       "        text-align: right;\n",
       "    }\n",
       "</style>\n",
       "<table border=\"1\" class=\"dataframe\">\n",
       "  <thead>\n",
       "    <tr style=\"text-align: right;\">\n",
       "      <th></th>\n",
       "      <th>Agreement_bl</th>\n",
       "      <th>will_check_xai</th>\n",
       "    </tr>\n",
       "  </thead>\n",
       "  <tbody>\n",
       "    <tr>\n",
       "      <th>0</th>\n",
       "      <td>Agree</td>\n",
       "      <td>0.0</td>\n",
       "    </tr>\n",
       "    <tr>\n",
       "      <th>1</th>\n",
       "      <td>Agree</td>\n",
       "      <td>0.0</td>\n",
       "    </tr>\n",
       "    <tr>\n",
       "      <th>2</th>\n",
       "      <td>Agree</td>\n",
       "      <td>1.0</td>\n",
       "    </tr>\n",
       "    <tr>\n",
       "      <th>4</th>\n",
       "      <td>Agree</td>\n",
       "      <td>0.0</td>\n",
       "    </tr>\n",
       "    <tr>\n",
       "      <th>5</th>\n",
       "      <td>Agree</td>\n",
       "      <td>1.0</td>\n",
       "    </tr>\n",
       "    <tr>\n",
       "      <th>...</th>\n",
       "      <td>...</td>\n",
       "      <td>...</td>\n",
       "    </tr>\n",
       "    <tr>\n",
       "      <th>754</th>\n",
       "      <td>Agree</td>\n",
       "      <td>1.0</td>\n",
       "    </tr>\n",
       "    <tr>\n",
       "      <th>755</th>\n",
       "      <td>Agree</td>\n",
       "      <td>0.0</td>\n",
       "    </tr>\n",
       "    <tr>\n",
       "      <th>756</th>\n",
       "      <td>Agree</td>\n",
       "      <td>1.0</td>\n",
       "    </tr>\n",
       "    <tr>\n",
       "      <th>757</th>\n",
       "      <td>Agree</td>\n",
       "      <td>0.0</td>\n",
       "    </tr>\n",
       "    <tr>\n",
       "      <th>758</th>\n",
       "      <td>Disagree</td>\n",
       "      <td>0.0</td>\n",
       "    </tr>\n",
       "  </tbody>\n",
       "</table>\n",
       "<p>746 rows × 2 columns</p>\n",
       "</div>"
      ],
      "text/plain": [
       "    Agreement_bl  will_check_xai\n",
       "0          Agree             0.0\n",
       "1          Agree             0.0\n",
       "2          Agree             1.0\n",
       "4          Agree             0.0\n",
       "5          Agree             1.0\n",
       "..           ...             ...\n",
       "754        Agree             1.0\n",
       "755        Agree             0.0\n",
       "756        Agree             1.0\n",
       "757        Agree             0.0\n",
       "758     Disagree             0.0\n",
       "\n",
       "[746 rows x 2 columns]"
      ]
     },
     "execution_count": 7,
     "metadata": {},
     "output_type": "execute_result"
    }
   ],
   "source": [
    "subset"
   ]
  },
  {
   "cell_type": "code",
   "execution_count": null,
   "metadata": {},
   "outputs": [],
   "source": []
  }
 ],
 "metadata": {
  "kernelspec": {
   "display_name": "Python 3",
   "language": "python",
   "name": "python3"
  },
  "language_info": {
   "codemirror_mode": {
    "name": "ipython",
    "version": 3
   },
   "file_extension": ".py",
   "mimetype": "text/x-python",
   "name": "python",
   "nbconvert_exporter": "python",
   "pygments_lexer": "ipython3",
   "version": "3.8.5"
  }
 },
 "nbformat": 4,
 "nbformat_minor": 4
}
