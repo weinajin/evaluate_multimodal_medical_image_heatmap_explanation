{
 "cells": [
  {
   "cell_type": "markdown",
   "metadata": {},
   "source": [
    "# 1. Get doctor wise accuracy"
   ]
  },
  {
   "cell_type": "code",
   "execution_count": 10,
   "metadata": {},
   "outputs": [],
   "source": [
    "import numpy as np\n",
    "import pandas as pd\n",
    "from sklearn.metrics import accuracy_score\n",
    "from base_code import *\n",
    "\n",
    "valid_data = pd.read_csv('../neurosurgeon35_data/neurosurgeon35.csv', index_col='Respondent ID')\n",
    "xai25 = pd.read_csv('../computational_data/xai25.csv')\n",
    "\n",
    "\n",
    "dr_wise_acc, num_mri = get_drwise_perf_metric(valid_data, xai25)"
   ]
  },
  {
   "cell_type": "markdown",
   "metadata": {},
   "source": [
    "# 2. Add more info doctor wise, and save as dr_wise_acc.csv\n",
    "\n",
    "## 2.1 add Need XAI and XAI Qual for each participant"
   ]
  },
  {
   "cell_type": "code",
   "execution_count": 2,
   "metadata": {
    "scrolled": false
   },
   "outputs": [],
   "source": [
    "# need XAI level\n",
    "will_check_xai =  valid_data.filter(regex='button in the AI system').replace({\"Yes\":1, \"No\":0})\n",
    "need_xai_rate_drwise = dict()\n",
    "for drID in will_check_xai.index:\n",
    "    row_lst = will_check_xai.loc[drID].dropna().values\n",
    "    need_xai_rate_drwise[drID] = sum(row_lst) /len(row_lst)\n",
    "need_xai_rate_drwise = dict(sorted(need_xai_rate_drwise.items(), key=lambda item: item[1])) \n",
    "\n",
    "# Explanation quality level\n",
    "xai_qual = valid_data.filter(regex='How closely does the highlighted area of the color map match with your clinical judgment?').fillna(np.nan).astype(float)\n",
    "xai_qual_drwise = dict()\n",
    "xai_qual_drwise_std = dict()\n",
    "\n",
    "for drID in xai_qual.index:\n",
    "    row_lst = xai_qual.loc[drID].dropna().values\n",
    "    xai_qual_drwise[drID] = sum(row_lst) /len(row_lst)\n",
    "    xai_qual_drwise_std[drID] = np.std(row_lst)\n",
    "xai_qual_drwise = dict(sorted(xai_qual_drwise.items(), key=lambda item: item[1])) \n",
    "\n",
    "# merge dr_wise_acc, num_mri, need_xai_rate_drwise, and xai_qual_drwise\n",
    "dr_wise_acc.index.name = 'Respondent ID'\n",
    "num_mri.index.name = 'Respondent ID'\n",
    "num_mri = num_mri.rename(columns = {'dr': 'MRI_DR', 'AI': 'MRI_DR+AI', 'XAI': 'MRI_DR+XAI'})\n",
    "dr_wise_acc = dr_wise_acc.merge(num_mri, how = 'left', left_index= True, right_index = True)\n",
    "\n",
    "dr_wise_acc['XAI Qual'] = pd.Series(xai_qual_drwise)\n",
    "dr_wise_acc['XAI Qual Std'] = pd.Series(xai_qual_drwise_std)\n",
    "dr_wise_acc['Need XAI'] = pd.Series(need_xai_rate_drwise)"
   ]
  },
  {
   "cell_type": "markdown",
   "metadata": {},
   "source": [
    "## 2.2 Add demographic info"
   ]
  },
  {
   "cell_type": "code",
   "execution_count": 3,
   "metadata": {
    "scrolled": false
   },
   "outputs": [
    {
     "name": "stderr",
     "output_type": "stream",
     "text": [
      "/Users/root202/Software/anaconda3/envs/posthoc-eval/lib/python3.8/site-packages/pandas/core/indexing.py:1732: SettingWithCopyWarning: \n",
      "A value is trying to be set on a copy of a slice from a DataFrame\n",
      "\n",
      "See the caveats in the documentation: https://pandas.pydata.org/pandas-docs/stable/user_guide/indexing.html#returning-a-view-versus-a-copy\n",
      "  self._setitem_single_block(indexer, value, name)\n"
     ]
    }
   ],
   "source": [
    "demography_columns = ['Are you a',\n",
    " 'Which medical specialty do you work in?',\n",
    "    'What is your understanding of artificial intelligence (AI)?',\n",
    " 'What is your opinion on incorporating AI technology into your clinical decision-making scenarios? (you may select multiple choices)',\n",
    " 'Unnamed: 208',\n",
    " 'Unnamed: 209',\n",
    " 'Unnamed: 210',\n",
    " 'Unnamed: 211',\n",
    " 'Unnamed: 212',\n",
    " 'Unnamed: 213',\n",
    " 'How many years have you been practising medicine? (since the acquisition of your medical degree)',\n",
    " 'How many years have you been practicing your {{Q2}} specialty?'\n",
    "]\n",
    "col_replace = {'Are you a': 'Position', 'Which medical specialty do you work in?': 'Specialty',\n",
    "              'What is your understanding of artificial intelligence (AI)?': 'AI Familiarity',\n",
    "              'How many years have you been practising medicine? (since the acquisition of your medical degree)': \"Year of Med\",\n",
    "              'How many years have you been practicing your {{Q2}} specialty?': \"Year of Neurosurgery\",\n",
    "              'What is your opinion on incorporating AI technology into your clinical decision-making scenarios? (you may select multiple choices)': 'Not interested',\n",
    "              'Unnamed: 209':'Skeptical', \n",
    "              'Unnamed: 210': 'Neutral',\n",
    "              'Unnamed: 211': 'Interested',\n",
    "              'Unnamed: 212': 'Excited'}\n",
    "attitude_col = ['Not interested', 'Skeptical', 'Neutral', 'Interested', 'Excited']\n",
    "report_demography = valid_data[demography_columns]\n",
    "report_demography = report_demography.rename(columns = col_replace)\n",
    "report_demography['AI Attitude'] = ''\n",
    "for drID in report_demography.index:\n",
    "    for atti in attitude_col:\n",
    "        row = report_demography.loc[drID]\n",
    "        if isinstance(row[atti], str) or (not np.isnan(row[atti])):\n",
    "            if len(row['AI Attitude']) ==0:\n",
    "                report_demography['AI Attitude'].loc[drID] += atti\n",
    "            else:\n",
    "                report_demography['AI Attitude'].loc[drID] += ', {}'.format(atti)\n",
    "                \n",
    "                \n",
    "dr_wise_acc = dr_wise_acc.merge(report_demography[['Position', 'Year of Med', 'Year of Neurosurgery', 'AI Familiarity', 'AI Attitude']], how = 'inner', left_index= True, right_index = True)\n",
    "dr_wise_acc = dr_wise_acc.rename(columns = {'dr': 'DR', 'AI': 'DR+AI', 'XAI': 'DR+XAI'})\n",
    "dr_wise_acc = dr_wise_acc.replace({np.nan: '', 'Resident Physician': 'Resident', 'Attending Physician': 'Attending', 'Fellow Physician':'Fellow', \n",
    "                                   'I use AI in my work or life.': 'use AI in work/life', \n",
    "                                   'I only hear of AI from the news, friends, etc.': 'hear of AI',\n",
    "                                   'I have never heard of AI before': 'never hear of AI',\n",
    "                                   'I can write AI code': 'can write AI code',\n",
    "                                   'I can program, but I can not write AI code': 'can program, but not write AI code',\n",
    "                                   'Other (please specify)': ''\n",
    "                                  })\n",
    "\n",
    "# one time code to save the data result\n",
    "# dr_wise_acc.to_csv('../computational_data/dr_wise_acc.csv')"
   ]
  },
  {
   "cell_type": "markdown",
   "metadata": {},
   "source": [
    "# 3. Report and visualize the demongraphic result"
   ]
  },
  {
   "cell_type": "code",
   "execution_count": 4,
   "metadata": {},
   "outputs": [
    {
     "name": "stdout",
     "output_type": "stream",
     "text": [
      "01 & 68.00 & 68.00 & \\textbf{72.00} & 25 & 33.33 & $5.24\\pm1.24 $& Attending & 13 & hear of AI & Skeptical \\\\ \\hline \n",
      "02 & 66.67 & \\textbf{100.00} & 100.00 & 2 & 100.00 & $5.00\\pm0.00 $& Attending &  &  &  \\\\ \\hline \n",
      "03 & 84.00 & 84.00 & 84.00 & 25 & 16.00 & $1.04\\pm0.77 $& Attending & 23 & use AI in work/life & Not interested \\\\ \\hline \n",
      "04 & 80.00 & \\textbf{92.00} & 92.00 & 25 & 100.00 & $8.68\\pm2.19 $& Resident & 1 & use AI in work/life & Interested \\\\ \\hline \n",
      "05 & 88.00 & \\textbf{92.00} & 92.00 & 25 & 8.70 & $7.83\\pm1.03 $& Resident & 3 & hear of AI & Interested \\\\ \\hline \n",
      "06 & 76.00 & \\textbf{84.00} & \\textbf{88.00} & 25 & 12.00 & $5.25\\pm1.53 $& Attending & 4 & hear of AI & Skeptical \\\\ \\hline \n",
      "07 & 84.00 & 80.00 & 80.00 & 25 & 96.00 & $6.21\\pm2.24 $& Resident & 4 & hear of AI & Neutral \\\\ \\hline \n",
      "08 & 84.00 & \\textbf{96.00} & 92.00 & 25 & 28.00 & $5.04\\pm2.07 $& Resident & 7 & hear of AI & Skeptical \\\\ \\hline \n",
      "09 & 87.50 & 87.50 & \\textbf{100.00} & 8 & 25.00 & $7.25\\pm2.17 $& Resident &  &  &  \\\\ \\hline \n",
      "10 & 80.00 & \\textbf{84.00} & 84.00 & 25 & 20.00 & $6.60\\pm2.61 $& Attending & 6 &  & Excited \\\\ \\hline \n",
      "11 & 80.00 & \\textbf{84.00} & 84.00 & 25 & 0.00 & $6.20\\pm1.77 $& Resident & 4 & can program, but not write AI code & Interested \\\\ \\hline \n",
      "12 & 80.00 & \\textbf{88.00} & 88.00 & 25 & 96.00 & $7.80\\pm2.94 $& Fellow & 7 & can program, but not write AI code & Interested, Excited \\\\ \\hline \n",
      "13 & 84.00 & 84.00 & 84.00 & 25 & 13.04 & $6.56\\pm2.10 $& Attending & 5 & hear of AI & Interested, Excited \\\\ \\hline \n",
      "14 & 92.00 & 92.00 & 92.00 & 25 & 24.00 & $6.48\\pm1.70 $& Resident & 0 & can write AI code & Interested, Excited \\\\ \\hline \n",
      "15 & 88.00 & \\textbf{92.00} & 92.00 & 25 & 16.00 & $2.56\\pm0.57 $& Attending & 15 & hear of AI & Skeptical \\\\ \\hline \n",
      "16 & 80.00 & \\textbf{84.00} & 80.00 & 25 & 16.67 & $5.68\\pm3.40 $& Resident & 1 & use AI in work/life & Interested \\\\ \\hline \n",
      "17 & 80.00 & \\textbf{92.00} & 92.00 & 25 & 12.50 & $9.00\\pm1.06 $& Resident & 5 & hear of AI & Interested \\\\ \\hline \n",
      "18 & 60.00 & \\textbf{76.00} & 76.00 & 25 & 0.00 & $7.72\\pm2.46 $& Resident & 4 & hear of AI & Neutral \\\\ \\hline \n",
      "19 & 88.00 & \\textbf{96.00} & 88.00 & 25 & 48.00 & $8.28\\pm1.43 $& Resident & 4 & hear of AI & Interested \\\\ \\hline \n",
      "20 & 80.00 & 80.00 & 80.00 & 25 & 12.00 & $8.42\\pm2.52 $& Attending & 11 & hear of AI & Interested \\\\ \\hline \n",
      "21 & 88.00 & 88.00 & 88.00 & 25 & 100.00 & $10.00\\pm0.00 $& Resident & 4 & can program, but not write AI code & Interested \\\\ \\hline \n",
      "22 & 80.00 & 80.00 & \\textbf{84.00} & 25 & 88.00 & $5.68\\pm2.38 $& Resident & 4 & use AI in work/life & Excited \\\\ \\hline \n",
      "23 & 88.00 & \\textbf{92.00} & \\textbf{96.00} & 25 & 96.00 & $6.44\\pm1.50 $& Resident & 7 & use AI in work/life & Interested \\\\ \\hline \n",
      "24 & 68.00 & \\textbf{80.00} & \\textbf{88.00} & 25 & 16.00 & $5.92\\pm1.83 $& Resident &  & can program, but not write AI code &  \\\\ \\hline \n",
      "25 & 82.35 & \\textbf{94.12} & 94.12 & 17 & 17.65 & $5.62\\pm1.76 $& Resident &  &  &  \\\\ \\hline \n",
      "26 & 84.00 & 84.00 & 84.00 & 25 & 20.00 & $6.40\\pm2.24 $& Resident & 4 & can program, but not write AI code & Interested, Excited \\\\ \\hline \n",
      "27 & 88.00 & 88.00 & 88.00 & 25 & 24.00 & $7.00\\pm2.83 $& Resident & 4 & can program, but not write AI code & Neutral \\\\ \\hline \n",
      "28 & 88.00 & 88.00 & \\textbf{92.00} & 25 & 68.00 & $8.29\\pm1.51 $& Attending & 5 & hear of AI & Interested \\\\ \\hline \n",
      "29 & 100.00 & 100.00 & 100.00 & 3 & 66.67 & $2.00\\pm0.00 $& Fellow &  &  &  \\\\ \\hline \n",
      "30 & 88.00 & 88.00 & 88.00 & 25 & 0.00 & $1.48\\pm0.77 $& Attending &  & hear of AI &  \\\\ \\hline \n",
      "31 & 80.00 & 80.00 & 80.00 & 25 & 20.00 & $1.12\\pm0.43 $& Resident & 8 & never hear of AI & Not interested \\\\ \\hline \n",
      "32 & 100.00 & 100.00 & 100.00 & 2 & 0.00 & $7.50\\pm0.50 $& Attending &  &  &  \\\\ \\hline \n",
      "33 & 88.00 & 84.00 & \\textbf{88.00} & 25 & 25.00 & $5.71\\pm2.07 $& Attending & 30 & use AI in work/life & Excited \\\\ \\hline \n",
      "34 & 88.00 & 88.00 & 88.00 & 25 & 0.00 & $5.68\\pm2.29 $& Resident & 9 & can write AI code & Excited \\\\ \\hline \n",
      "35 & 66.67 & \\textbf{100.00} & 100.00 & 2 & 50.00 & $9.50\\pm0.50 $& Resident &  &  &  \\\\ \\hline \n",
      "\n"
     ]
    }
   ],
   "source": [
    "# report in Supplemental S2\n",
    "def report_drwise_table(dr_wise_acc):\n",
    "    output= ''\n",
    "    for index, row in dr_wise_acc.iterrows():\n",
    "        output += '{0:02d} & '.format(index)\n",
    "        output += '{:.2f} & '.format(row['DR']*100)\n",
    "        if row['DR+AI'] > row['DR']:\n",
    "            output += '\\\\textbf{{{:.2f}}} & '.format(row['DR+AI']*100)\n",
    "        else:\n",
    "            output += '{:.2f} & '.format(row['DR+AI']*100)\n",
    "        if row['DR+XAI'] > row['DR+AI']:\n",
    "            output += '\\\\textbf{{{:.2f}}} & '.format(row['DR+XAI']*100)\n",
    "        else:\n",
    "            output += '{:.2f} & '.format(row['DR+XAI']*100)\n",
    "        output += '{} & '.format(row['MRI_DR+XAI'])\n",
    "        output += '{:.2f} & '.format(row['Need XAI']*100)\n",
    "        output += '${:.2f}\\pm{:.2f} $& '.format(row['XAI Qual'], row['XAI Qual Std'])\n",
    "        output += '{} & '.format(row['Position'])\n",
    "        if isinstance(row['Year of Neurosurgery'], float):\n",
    "            output += '{:.0f} & '.format(row['Year of Neurosurgery'])\n",
    "        else:\n",
    "            output += ' & '\n",
    "        output += '{} & '.format(row['AI Familiarity'])\n",
    "        output += '{} '.format(row['AI Attitude'])\n",
    "        output += '\\\\\\ \\hline \\n'\n",
    "    return output\n",
    "output = report_drwise_table(dr_wise_acc)\n",
    "print(output)"
   ]
  },
  {
   "cell_type": "code",
   "execution_count": 5,
   "metadata": {},
   "outputs": [
    {
     "data": {
      "text/plain": [
       "Resident     21\n",
       "Attending    12\n",
       "Fellow        2\n",
       "Name: Position, dtype: int64"
      ]
     },
     "execution_count": 5,
     "metadata": {},
     "output_type": "execute_result"
    }
   ],
   "source": [
    "dr_wise_acc['Position'].value_counts()"
   ]
  },
  {
   "cell_type": "code",
   "execution_count": 6,
   "metadata": {},
   "outputs": [
    {
     "name": "stdout",
     "output_type": "stream",
     "text": [
      "Year of med: 9.8\\pm9.1\n",
      "Year of neuro: 7.1\\pm6.5\n"
     ]
    }
   ],
   "source": [
    "# report demographics\n",
    "medy = np.array(valid_data['How many years have you been practising medicine? (since the acquisition of your medical degree)'].dropna().tolist()).astype(int)\n",
    "\n",
    "print(\"Year of med: {:.1f}\\pm{:.1f}\".format(medy.mean(), medy.std()))\n",
    "\n",
    "neuy = np.array(valid_data['How many years have you been practicing your {{Q2}} specialty?'].dropna().tolist()).astype(int)\n",
    "\n",
    "print(\"Year of neuro: {:.1f}\\pm{:.1f}\".format(neuy.mean(), neuy.std()))\n"
   ]
  },
  {
   "cell_type": "code",
   "execution_count": 7,
   "metadata": {},
   "outputs": [
    {
     "name": "stdout",
     "output_type": "stream",
     "text": [
      "Yr of medicine: 9.8 ± 9.1\n",
      "Yr of specialty: 7.1 ± 6.5\n"
     ]
    },
    {
     "name": "stderr",
     "output_type": "stream",
     "text": [
      "/Users/root202/Software/anaconda3/envs/posthoc-eval/lib/python3.8/site-packages/seaborn/distributions.py:2551: FutureWarning: `distplot` is a deprecated function and will be removed in a future version. Please adapt your code to use either `displot` (a figure-level function with similar flexibility) or `histplot` (an axes-level function for histograms).\n",
      "  warnings.warn(msg, FutureWarning)\n",
      "/Users/root202/Software/anaconda3/envs/posthoc-eval/lib/python3.8/site-packages/seaborn/distributions.py:2055: FutureWarning: The `axis` variable is no longer used and will be removed. Instead, assign variables directly to `x` or `y`.\n",
      "  warnings.warn(msg, FutureWarning)\n"
     ]
    },
    {
     "data": {
      "image/png": "[encoded data removed]",
      "text/plain": [
       "<Figure size 432x288 with 1 Axes>"
      ]
     },
     "metadata": {
      "needs_background": "light"
     },
     "output_type": "display_data"
    }
   ],
   "source": [
    "# Year of Specialty plot \n",
    "\n",
    "import matplotlib.ticker as ticker\n",
    "import seaborn as sns\n",
    "import matplotlib.pyplot as plt\n",
    "\n",
    "fontsize = 13\n",
    "sns.set_style(\"whitegrid\")\n",
    "\n",
    "yr_med = valid_data.filter(regex='How many years have you been practising medicine?').dropna().astype(int)\n",
    "print(\"Yr of medicine: {:.1f} ± {:.1f}\".format(yr_med.values.mean(), yr_med.values.std()))\n",
    "yr_spe = valid_data.filter(regex='How many years have you been practicing your?').dropna().astype(int)\n",
    "print(\"Yr of specialty: {:.1f} ± {:.1f}\".format(yr_spe.values.mean(), yr_spe.values.std()))\n",
    "\n",
    "g=sns.distplot(yr_spe, bins = 12, kde=False, rug=True, hist_kws={'range':(0,yr_spe.values.max())})\n",
    "g.set_xlabel('Years in Neurosurgery', fontsize=fontsize)\n",
    "g.set_ylabel('Number of Physicians',fontsize=fontsize)\n",
    "sns.despine(left=True)\n",
    "g.yaxis.set_major_locator(ticker.MultipleLocator(2))\n",
    "# plt.savefig(\"../reporting/Year of Specialty.pdf\", transparent=True, bbox_inches='tight')\n"
   ]
  },
  {
   "cell_type": "code",
   "execution_count": 8,
   "metadata": {},
   "outputs": [
    {
     "data": {
      "image/png": "[encoded data removed]",
      "text/plain": [
       "<Figure size 432x288 with 1 Axes>"
      ]
     },
     "metadata": {},
     "output_type": "display_data"
    }
   ],
   "source": [
    "orange_colors = ['#eff3ff','#c6dbef','#9ecae1','#6baed6','#3182bd','#08519c']\n",
    "plt.rcParams.update({'font.size': 13})\n",
    "understand_ai = dr_wise_acc['AI Familiarity'].value_counts()\n",
    "understand_ai = understand_ai.drop('')\n",
    "patches, texts, autotexts = plt.pie(understand_ai, autopct=lambda p : '{:.0f}%\\n({:,.0f})'.format(p,p * sum(understand_ai)/100),\\\n",
    "                                    pctdistance=0.7, labels=understand_ai.index,startangle=90,counterclock=False, colors=orange_colors)\n",
    "for text in texts:\n",
    "    text.set_color('black')\n",
    "\n",
    "# plt.savefig(\"../reporting/understand_ai.pdf\", transparent=True, bbox_inches='tight')"
   ]
  },
  {
   "cell_type": "code",
   "execution_count": 9,
   "metadata": {},
   "outputs": [
    {
     "data": {
      "image/png": "[encoded data removed]",
      "text/plain": [
       "<Figure size 432x288 with 1 Axes>"
      ]
     },
     "metadata": {},
     "output_type": "display_data"
    }
   ],
   "source": [
    "raw_attitude = dr_wise_acc['AI Attitude'].value_counts()\n",
    "raw_attitude = raw_attitude.drop('')\n",
    "raw_attitude = raw_attitude.to_dict()\n",
    "blue = ['#eff3ff','#bdd7e7','#6baed6','#3182bd','#08519c']\n",
    "attitude = {'Interested or Excited': 0}\n",
    "for a in raw_attitude:\n",
    "    if a in ['Interested', 'Excited', 'Interested, Excited']:\n",
    "        attitude['Interested or Excited'] += raw_attitude[a]\n",
    "    else:\n",
    "        attitude[a] = raw_attitude[a]\n",
    "patches, texts, autotexts = plt.pie(attitude.values(), autopct=lambda p : '{:.0f}%\\n({:,.0f})'.format(p,p * sum(attitude.values())/100),\\\n",
    "                                    pctdistance=0.65, labels=attitude.keys(),startangle=90,counterclock=False, colors=blue)\n",
    "for text in texts:\n",
    "    text.set_color('black')\n",
    "\n",
    "# plt.savefig(\"../reporting/attitude.pdf\", transparent=True, bbox_inches='tight')"
   ]
  },
  {
   "cell_type": "code",
   "execution_count": null,
   "metadata": {},
   "outputs": [],
   "source": []
  }
 ],
 "metadata": {
  "kernelspec": {
   "display_name": "Python 3",
   "language": "python",
   "name": "python3"
  },
  "language_info": {
   "codemirror_mode": {
    "name": "ipython",
    "version": 3
   },
   "file_extension": ".py",
   "mimetype": "text/x-python",
   "name": "python",
   "nbconvert_exporter": "python",
   "pygments_lexer": "ipython3",
   "version": "3.8.5"
  }
 },
 "nbformat": 4,
 "nbformat_minor": 4
}
