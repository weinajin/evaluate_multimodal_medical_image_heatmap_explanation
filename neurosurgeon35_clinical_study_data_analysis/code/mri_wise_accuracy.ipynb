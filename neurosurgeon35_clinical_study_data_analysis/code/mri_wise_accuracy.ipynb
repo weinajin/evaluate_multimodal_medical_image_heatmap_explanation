{
 "cells": [
  {
   "cell_type": "markdown",
   "metadata": {},
   "source": [
    "# 1. Get MRI wise accuracy"
   ]
  },
  {
   "cell_type": "code",
   "execution_count": 2,
   "metadata": {},
   "outputs": [
    {
     "name": "stdout",
     "output_type": "stream",
     "text": [
      "0 ['BraTS20_Training_221', 6.0, 5.0, 1.0, 9.0, 7.0, 8.0, 7.0, 8.0, 10.0, 10.0, 10.0, 10.0, 9.0, 7.0, 3.0, 10.0, 10.0, 10.0, 9.0, 10.0, 10.0, 5.0, 5.0, 6.0, 4.0, 8.0, 10.0, 8.0, 2.0, 4.0, 1.0, 8.0, 5.0, 8.0, 10.0] 35\n",
      "1 ['BraTS20_Training_208', 5.0, 1.0, 9.0, 8.0, 7.0, 3.0, 6.0, 7.0, 10.0, 8.0, 7.0, 3.0, 7.0, 9.0, 10.0, 9.0, 7.0, 10.0, 7.0, 8.0, 9.0, 7.0, 7.0, 10.0, 8.0, 1.0, 2.0, 5.0, 7.0] 29\n",
      "2 ['BraTS20_Training_116', 6.0, 1.0, 10.0, 8.0, 7.0, 7.0, 6.0, 8.0, 8.0, 10.0, 7.0, 7.0, 3.0, 7.0, 9.0, 2.0, 8.0, 10.0, 10.0, 7.0, 8.0, 7.0, 5.0, 8.0, 10.0, 1.0, 1.0, 7.0, 5.0] 29\n",
      "3 ['BraTS20_Training_114', 4.0, 2.0, 9.0, 9.0, 5.0, 5.0, 5.0, 6.0, 8.0, 7.0, 8.0, 7.0, 6.0, 3.0, 9.0, 10.0, 10.0, 7.0, 10.0, 10.0, 5.0, 7.0, 8.0, 7.0, 7.0, 3.0, 9.0, 3.0, 1.0, 8.0, 5.0] 31\n",
      "4 ['BraTS20_Training_112', 5.0, 1.0, 9.0, 8.0, 7.0, 5.0, 5.0, 10.0, 10.0, 10.0, 10.0, 9.0, 7.0, 3.0, 8.0, 9.0, 8.0, 9.0, 10.0, 6.0, 8.0, 5.0, 7.0, 5.0, 8.0, 10.0, 1.0, 1.0, 6.0, 8.0] 30\n",
      "5 ['BraTS20_Training_099', 6.0, 0.0, 10.0, 5.0, 2.0, 2.0, 6.0, 6.0, 6.0, 0.0, 2.0, 6.0, 2.0, 0.0, 8.0, 4.0, 4.0, 2.0, 10.0, 2.0, 4.0, 2.0, 4.0, 3.0, 5.0, 7.0, 1.0, 1.0, 3.0, 4.0] 30\n",
      "6 ['BraTS20_Training_094', 6.0, 3.0, 9.0, 8.0, 4.0, 8.0, 5.0, 5.0, 6.0, 5.0, 4.0, 6.0, 8.0, 3.0, 2.0, 10.0, 9.0, 9.0, 10.0, 10.0, 9.0, 8.0, 3.0, 4.0, 10.0, 10.0, 8.0, 1.0, 0.0, 7.0, 8.0] 31\n",
      "7 ['BraTS20_Training_093', 7.0, 2.0, 10.0, 8.0, 6.0, 7.0, 5.0, 7.0, 7.0, 10.0, 8.0, 7.0, 3.0, 9.0, 10.0, 8.0, 8.0, 10.0, 10.0, 8.0, 6.0, 7.0, 7.0, 8.0, 8.0, 9.0, 1.0, 2.0, 7.0, 9.0] 30\n",
      "8 ['BraTS20_Training_289', 3.0, 0.0, 10.0, 9.0, 5.0, 3.0, 3.0, 9.0, 3.0, 7.0, 5.0, 5.0, 2.0, 5.0, 9.0, 6.0, 10.0, 6.0, 10.0, 3.0, 6.0, 5.0, 4.0, 6.0, 9.0, 1.0, 7.0, 3.0] 28\n",
      "9 ['BraTS20_Training_076', 6.0, 5.0, 0.0, 10.0, 8.0, 3.0, 9.0, 8.0, 4.0, 7.0, 9.0, 9.0, 7.0, 3.0, 6.0, 9.0, 6.0, 9.0, 10.0, 10.0, 8.0, 7.0, 7.0, 5.0, 7.0, 10.0, 10.0, 1.0, 2.0, 1.0, 6.0] 31\n",
      "10 ['BraTS20_Training_075', 4.0, 1.0, 10.0, 9.0, 4.0, 7.0, 4.0, 9.0, 8.0, 9.0, 9.0, 7.0, 2.0, 7.0, 9.0, 10.0, 9.0, 10.0, 3.0, 7.0, 8.0, 6.0, 7.0, 9.0, 2.0, 1.0, 7.0, 7.0] 28\n",
      "11 ['BraTS20_Training_070', 5.0, 1.0, 9.0, 8.0, 6.0, 8.0, 7.0, 9.0, 5.0, 10.0, 8.0, 7.0, 2.0, 10.0, 9.0, 7.0, 7.0, 10.0, 10.0, 7.0, 7.0, 5.0, 7.0, 9.0, 9.0, 2.0, 1.0, 7.0, 8.0] 29\n",
      "12 ['BraTS20_Training_325', 4.0, 1.0, 3.0, 8.0, 5.0, 0.0, 1.0, 0.0, 3.0, 0.0, 4.0, 3.0, 2.0, 1.0, 8.0, 2.0, 9.0, 8.0, 10.0, 1.0, 1.0, 2.0, 5.0, 4.0, 0.0, 4.0, 1.0, 1.0, 2.0, 1.0] 30\n",
      "13 ['BraTS20_Training_064', 4.0, 2.0, 10.0, 8.0, 6.0, 6.0, 6.0, 8.0, 7.0, 10.0, 8.0, 8.0, 3.0, 5.0, 10.0, 10.0, 9.0, 10.0, 10.0, 7.0, 7.0, 8.0, 7.0, 8.0, 7.0, 9.0, 1.0, 2.0, 6.0, 6.0] 30\n",
      "14 ['BraTS20_Training_063', 5.0, 2.0, 8.0, 8.0, 3.0, 7.0, 8.0, 3.0, 7.0, 9.0, 7.0, 8.0, 2.0, 1.0, 8.0, 6.0, 9.0, 10.0, 7.0, 6.0, 4.0, 5.0, 8.0, 10.0, 7.0, 1.0, 1.0, 6.0, 8.0, 9.0] 30\n",
      "15 ['BraTS20_Training_060', 4.0, 1.0, 8.0, 8.0, 6.0, 7.0, 6.0, 7.0, 5.0, 10.0, 7.0, 8.0, 3.0, 8.0, 9.0, 8.0, 9.0, 10.0, 10.0, 5.0, 7.0, 6.0, 5.0, 5.0, 10.0, 1.0, 1.0, 6.0, 5.0] 29\n",
      "16 ['BraTS20_Training_056', 6.0, 1.0, 10.0, 8.0, 8.0, 8.0, 8.0, 9.0, 8.0, 9.0, 10.0, 8.0, 3.0, 10.0, 9.0, 4.0, 9.0, 10.0, 10.0, 8.0, 6.0, 6.0, 8.0, 8.0, 8.0, 9.0, 1.0, 1.0, 7.0, 8.0] 30\n",
      "17 ['BraTS20_Training_053', 6.0, 2.0, 9.0, 8.0, 6.0, 8.0, 7.0, 9.0, 6.0, 10.0, 7.0, 7.0, 3.0, 9.0, 10.0, 10.0, 8.0, 10.0, 10.0, 8.0, 7.0, 6.0, 7.0, 9.0, 8.0, 9.0, 1.0, 1.0, 8.0, 7.0] 30\n",
      "18 ['BraTS20_Training_270', 5.0, 1.0, 10.0, 9.0, 4.0, 7.0, 4.0, 5.0, 6.0, 10.0, 4.0, 8.0, 3.0, 8.0, 10.0, 10.0, 9.0, 6.0, 7.0, 8.0, 9.0, 7.0, 9.0, 1.0, 8.0, 5.0] 26\n",
      "19 ['BraTS20_Training_277', 8.0, 0.0, 10.0, 7.0, 4.0, 9.0, 5.0, 6.0, 8.0, 5.0, 9.0, 4.0, 3.0, 3.0, 7.0, 9.0, 9.0, 8.0, 7.0, 9.0, 7.0, 8.0, 5.0, 6.0, 8.0, 8.0, 2.0, 1.0, 4.0, 5.0] 30\n",
      "20 ['BraTS20_Training_269', 7.0, 1.0, 10.0, 8.0, 7.0, 4.0, 7.0, 1.0, 4.0, 4.0, 5.0, 8.0, 3.0, 0.0, 5.0, 10.0, 10.0, 10.0, 10.0, 5.0, 6.0, 6.0, 9.0, 8.0, 6.0, 2.0, 1.0, 1.0, 6.0, 5.0] 30\n",
      "21 ['BraTS20_Training_264', 4.0, 0.0, 10.0, 5.0, 4.0, 3.0, 1.0, 6.0, 5.0, 7.0, 5.0, 7.0, 2.0, 6.0, 9.0, 8.0, 9.0, 5.0, 8.0, 8.0, 5.0, 5.0, 8.0, 9.0, 2.0, 1.0, 1.0, 5.0] 28\n",
      "22 ['BraTS20_Training_280', 6.0, 1.0, 9.0, 9.0, 6.0, 3.0, 5.0, 10.0, 5.0, 5.0, 5.0, 8.0, 7.0, 2.0, 1.0, 9.0, 9.0, 9.0, 4.0, 10.0, 3.0, 5.0, 5.0, 6.0, 9.0, 8.0, 2.0, 1.0, 1.0, 8.0, 7.0] 31\n",
      "23 ['BraTS20_Training_171', 3.0, 0.0, 3.0, 5.0, 9.0, 3.0, 5.0, 8.0, 5.0, 8.0, 5.0, 4.0, 2.0, 6.0, 10.0, 8.0, 6.0, 10.0, 10.0, 4.0, 7.0, 7.0, 1.0, 3.0, 5.0, 2.0, 1.0, 5.0, 2.0] 29\n",
      "24 ['BraTS20_Training_212', 6.0, 1.0, 3.0, 7.0, 5.0, 5.0, 4.0, 4.0, 6.0, 7.0, 3.0, 2.0, 1.0, 0.0, 8.0, 9.0, 5.0, 3.0, 10.0, 1.0, 6.0, 5.0, 1.0, 3.0, 0.0, 9.0, 2.0, 1.0, 7.0, 0.0] 30\n"
     ]
    },
    {
     "data": {
      "text/plain": [
       "{'BraTS20_Training_325': 3.1333333333333333,\n",
       " 'BraTS20_Training_099': 3.9,\n",
       " 'BraTS20_Training_212': 4.133333333333334,\n",
       " 'BraTS20_Training_171': 5.068965517241379,\n",
       " 'BraTS20_Training_264': 5.285714285714286,\n",
       " 'BraTS20_Training_289': 5.5,\n",
       " 'BraTS20_Training_269': 5.633333333333334,\n",
       " 'BraTS20_Training_280': 5.741935483870968,\n",
       " 'BraTS20_Training_063': 6.1,\n",
       " 'BraTS20_Training_277': 6.133333333333334,\n",
       " 'BraTS20_Training_060': 6.379310344827586,\n",
       " 'BraTS20_Training_094': 6.387096774193548,\n",
       " 'BraTS20_Training_076': 6.516129032258065,\n",
       " 'BraTS20_Training_114': 6.548387096774194,\n",
       " 'BraTS20_Training_075': 6.607142857142857,\n",
       " 'BraTS20_Training_270': 6.653846153846154,\n",
       " 'BraTS20_Training_116': 6.655172413793103,\n",
       " 'BraTS20_Training_208': 6.793103448275862,\n",
       " 'BraTS20_Training_070': 6.896551724137931,\n",
       " 'BraTS20_Training_112': 6.933333333333334,\n",
       " 'BraTS20_Training_064': 6.933333333333334,\n",
       " 'BraTS20_Training_093': 7.133333333333334,\n",
       " 'BraTS20_Training_053': 7.2,\n",
       " 'BraTS20_Training_221': 7.228571428571429,\n",
       " 'BraTS20_Training_056': 7.266666666666667}"
      ]
     },
     "execution_count": 2,
     "metadata": {},
     "output_type": "execute_result"
    }
   ],
   "source": [
    "import numpy as np\n",
    "import pandas as pd\n",
    "from sklearn.metrics import accuracy_score\n",
    "\n",
    "valid_data = pd.read_csv('../neurosurgeon35_data/neurosurgeon35.csv', index_col='Respondent ID')\n",
    "xai25 = pd.read_csv('../computational_data/xai25.csv')\n",
    "\n",
    "# need XAI level\n",
    "will_check_xai =  valid_data.filter(regex='button in the AI system').replace({\"Yes\":1, \"No\":0})\n",
    "gt_long = xai25[['dataID','gt','pred']]\n",
    "\n",
    "will_check_xai_t = will_check_xai.rename(columns = {c: gt_long['dataID'].iloc[i] for i, c in enumerate(will_check_xai.columns)}).transpose().reset_index(level=0).rename(columns={'index':'dataID'})\n",
    "need_xai_rate_mriwise = dict()\n",
    "for i, row in will_check_xai_t.iterrows():\n",
    "    row_lst = row.dropna().to_list()\n",
    "    need_xai_rate_mriwise[row_lst[0]] = sum(row_lst[1:]) /len(row_lst[1:])\n",
    "need_xai_rate_mriwise = dict(sorted(need_xai_rate_mriwise.items(), key=lambda item: item[1])) \n",
    "\n",
    "# Explanation quality level\n",
    "xai_qual = valid_data.filter(regex='How closely does the highlighted area of the color map match with your clinical judgment?').fillna(np.nan).astype(float)\n",
    "xai_qual_t = xai_qual.rename(columns = {c: gt_long['dataID'].iloc[i] for i, c in enumerate(xai_qual.columns)}).transpose().reset_index(level=0).rename(columns={'index':'dataID'})\n",
    "xai_qual_mriwise = dict()\n",
    "xai_qual_mriwise_std = dict()\n",
    "for i, row in xai_qual_t.iterrows():\n",
    "    row_lst = row.dropna().to_list()\n",
    "    print(i, row_lst, len(row_lst[1:]))\n",
    "    xai_qual_mriwise[row_lst[0]] = sum(row_lst[1:]) /len(row_lst[1:])\n",
    "    xai_qual_mriwise_std[row_lst[0]] = np.std(row_lst[1:])\n",
    "xai_qual_mriwise = dict(sorted(xai_qual_mriwise.items(), key=lambda item: item[1])) \n",
    "xai_qual_mriwise"
   ]
  },
  {
   "cell_type": "code",
   "execution_count": 3,
   "metadata": {},
   "outputs": [],
   "source": [
    "# report MRI wise accuracy\n",
    "# Export tab:mri_wise_accuracy to csv, to report in supplemental\n",
    "# get data id specific accuracy\n",
    "\n",
    "mriwise = xai25.copy()\n",
    "condition_dict = {'DR': 'What grade of glioma would you predict', 'DR+AI': 'After viewing AI’s suggestion',\n",
    "                  'DR+XAI': 'After viewing AI’s explanation'}\n",
    "\n",
    "for c in condition_dict:\n",
    "    data_accuracies = []\n",
    "    response_num = []\n",
    "    drAlone = valid_data.filter(regex=condition_dict[c])\n",
    "    for i, col in enumerate(drAlone.columns.tolist()):\n",
    "        gt = xai25['gt'].iloc[i]\n",
    "        response = np.array(drAlone[col]).astype(float)\n",
    "        response= response[~np.isnan(response)]\n",
    "\n",
    "        acc = response == gt\n",
    "        data_accuracies.append(acc.sum()/len(response))\n",
    "        response_num.append(len(acc))\n",
    "\n",
    "    mriwise['{}_Acc'.format(c)] = data_accuracies\n",
    "    mriwise['{}_Num'.format(c)] = response_num\n",
    "mriwise_maprating_acc = mriwise.copy()\n",
    "mriwise_maprating_acc['XAI Qual'] = mriwise['dataID'].map(xai_qual_mriwise)\n",
    "mriwise_maprating_acc['XAI Qual Std'] = mriwise['dataID'].map(xai_qual_mriwise_std)\n",
    "mriwise_maprating_acc['Need XAI'] = mriwise['dataID'].map(need_xai_rate_mriwise)\n",
    "\n"
   ]
  },
  {
   "cell_type": "markdown",
   "metadata": {},
   "source": [
    "# 2. Save and report data"
   ]
  },
  {
   "cell_type": "code",
   "execution_count": 5,
   "metadata": {},
   "outputs": [],
   "source": [
    "# one time code to save the data\n",
    "# mriwise_maprating_acc.to_csv('../computational_data/mri_wise_acc.csv')"
   ]
  },
  {
   "cell_type": "code",
   "execution_count": 6,
   "metadata": {},
   "outputs": [
    {
     "name": "stdout",
     "output_type": "stream",
     "text": [
      "BraTS20\\_Training\\_221 & 1 & 1 & 100.00 & 100.00 & 100.00 & 35 & 50.00 & $7.23\\pm2.75 $& vimeo.com/558775183  \\\\ \\hline \n",
      "BraTS20\\_Training\\_208 & 1 & 1 & 100.00 & 100.00 & 100.00 & 30 & 26.67 & $6.79\\pm2.58 $& vimeo.com/558775334  \\\\ \\hline \n",
      "BraTS20\\_Training\\_116 & 1 & 1 & 100.00 & 100.00 & 100.00 & 30 & 16.67 & $6.66\\pm2.69 $& vimeo.com/558785220  \\\\ \\hline \n",
      "BraTS20\\_Training\\_114 & 1 & 1 & 93.55 & 93.55 & 93.55 & 31 & 35.48 & $6.55\\pm2.47 $& vimeo.com/558795281  \\\\ \\hline \n",
      "BraTS20\\_Training\\_112 & 1 & 1 & 93.55 & \\textbf{100.00} & 100.00 & 31 & 25.81 & $6.93\\pm2.72 $& vimeo.com/558795007  \\\\ \\hline \n",
      "BraTS20\\_Training\\_099 & 1 & 1 & 19.35 & \\textbf{35.48} & \\textbf{41.94} & 31 & 76.67 & $3.90\\pm2.68 $& vimeo.com/558764148  \\\\ \\hline \n",
      "BraTS20\\_Training\\_094 & 1 & 1 & 80.65 & \\textbf{93.55} & 90.32 & 31 & 30.00 & $6.39\\pm2.87 $& vimeo.com/558764221  \\\\ \\hline \n",
      "BraTS20\\_Training\\_093 & 1 & 1 & 100.00 & 100.00 & 100.00 & 30 & 24.14 & $7.13\\pm2.39 $& vimeo.com/558768608  \\\\ \\hline \n",
      "BraTS20\\_Training\\_289 & 0 & 0 & 86.21 & \\textbf{93.10} & \\textbf{96.55} & 29 & 37.93 & $5.50\\pm2.80 $& vimeo.com/558897027  \\\\ \\hline \n",
      "BraTS20\\_Training\\_076 & 1 & 1 & 96.77 & \\textbf{100.00} & 100.00 & 31 & 26.67 & $6.52\\pm2.89 $& vimeo.com/558768466  \\\\ \\hline \n",
      "BraTS20\\_Training\\_075 & 1 & 1 & 96.67 & \\textbf{100.00} & 96.67 & 30 & 26.67 & $6.61\\pm2.79 $& vimeo.com/558768604  \\\\ \\hline \n",
      "BraTS20\\_Training\\_070 & 1 & 1 & 80.00 & \\textbf{90.00} & \\textbf{96.67} & 30 & 30.00 & $6.90\\pm2.59 $& vimeo.com/546342295  \\\\ \\hline \n",
      "BraTS20\\_Training\\_325 & 0 & 0 & 87.10 & \\textbf{93.33} & 93.33 & 30 & 37.93 & $3.13\\pm2.85 $& vimeo.com/558895720  \\\\ \\hline \n",
      "BraTS20\\_Training\\_064 & 1 & 1 & 100.00 & 100.00 & 100.00 & 30 & 20.00 & $6.93\\pm2.50 $& vimeo.com/558762879  \\\\ \\hline \n",
      "BraTS20\\_Training\\_063 & 1 & 1 & 48.39 & \\textbf{64.52} & \\textbf{67.74} & 31 & 50.00 & $6.10\\pm2.72 $& vimeo.com/558762829  \\\\ \\hline \n",
      "BraTS20\\_Training\\_060 & 1 & 1 & 89.66 & \\textbf{96.55} & 96.55 & 29 & 37.93 & $6.38\\pm2.59 $& vimeo.com/558758233  \\\\ \\hline \n",
      "BraTS20\\_Training\\_056 & 1 & 1 & 96.67 & \\textbf{100.00} & 100.00 & 30 & 23.33 & $7.27\\pm2.64 $& vimeo.com/558758468  \\\\ \\hline \n",
      "BraTS20\\_Training\\_053 & 1 & 1 & 100.00 & 100.00 & 100.00 & 30 & 20.69 & $7.20\\pm2.50 $& vimeo.com/558758697  \\\\ \\hline \n",
      "BraTS20\\_Training\\_270 & 0 & 1 & 0.00 & 0.00 & 0.00 & 29 & 17.24 & $6.65\\pm2.64 $& vimeo.com/558784455  \\\\ \\hline \n",
      "BraTS20\\_Training\\_277 & 0 & 0 & 41.94 & \\textbf{61.29} & 61.29 & 31 & 43.33 & $6.13\\pm2.58 $& vimeo.com/546658075  \\\\ \\hline \n",
      "BraTS20\\_Training\\_269 & 0 & 0 & 96.67 & \\textbf{100.00} & 100.00 & 30 & 30.00 & $5.63\\pm3.04 $& vimeo.com/558775144  \\\\ \\hline \n",
      "BraTS20\\_Training\\_264 & 0 & 0 & 100.00 & 100.00 & 100.00 & 29 & 24.14 & $5.29\\pm2.76 $& vimeo.com/558775501  \\\\ \\hline \n",
      "BraTS20\\_Training\\_280 & 0 & 0 & 83.87 & \\textbf{90.32} & 90.32 & 31 & 34.48 & $5.74\\pm2.88 $& vimeo.com/558774958  \\\\ \\hline \n",
      "BraTS20\\_Training\\_171 & 1 & 0 & 83.33 & 70.00 & \\textbf{76.67} & 30 & 65.52 & $5.07\\pm2.82 $& vimeo.com/558769028  \\\\ \\hline \n",
      "BraTS20\\_Training\\_212 & 1 & 0 & 83.33 & 70.00 & 66.67 & 30 & 58.62 & $4.13\\pm2.88 $& vimeo.com/558786569  \\\\ \\hline \n",
      "\n"
     ]
    }
   ],
   "source": [
    "# report in Supplemental S2\n",
    "def report_mriwise_table(mriwise):\n",
    "    output= ''\n",
    "    for index, row in mriwise.iterrows():\n",
    "        output += '{} & '.format(row['dataID'].replace(\"_\", \"\\_\"))\n",
    "        output += '{} & '.format(row['gt'])\n",
    "        output += '{} & '.format(row['pred'])\n",
    "        output += '{:.2f} & '.format(row['DR_Acc']*100)\n",
    "\n",
    "        if row['DR+AI_Acc'] > row['DR_Acc']:\n",
    "            output += '\\\\textbf{{{:.2f}}} & '.format(row['DR+AI_Acc']*100)\n",
    "        else:\n",
    "            output += '{:.2f} & '.format(row['DR+AI_Acc']*100)\n",
    "        if row['DR+XAI_Acc'] > row['DR+AI_Acc']:\n",
    "            output += '\\\\textbf{{{:.2f}}} & '.format(row['DR+XAI_Acc']*100)\n",
    "        else:\n",
    "            output += '{:.2f} & '.format(row['DR+XAI_Acc']*100)\n",
    "        output += '{} & '.format(row['DR+XAI_Num'])\n",
    "        output += '{:.2f} & '.format(row['Need XAI']*100)\n",
    "        output += '${:.2f}\\pm{:.2f} $& '.format(row['XAI Qual'], row['XAI Qual Std'])\n",
    "        output += '{}  '.format(row['xai'][8:])\n",
    "        output += '\\\\\\ \\hline \\n'\n",
    "    return output\n",
    "output = report_mriwise_table(mriwise_maprating_acc)\n",
    "print(output)"
   ]
  },
  {
   "cell_type": "code",
   "execution_count": null,
   "metadata": {},
   "outputs": [],
   "source": []
  }
 ],
 "metadata": {
  "kernelspec": {
   "display_name": "Python 3",
   "language": "python",
   "name": "python3"
  },
  "language_info": {
   "codemirror_mode": {
    "name": "ipython",
    "version": 3
   },
   "file_extension": ".py",
   "mimetype": "text/x-python",
   "name": "python",
   "nbconvert_exporter": "python",
   "pygments_lexer": "ipython3",
   "version": "3.8.5"
  }
 },
 "nbformat": 4,
 "nbformat_minor": 4
}
